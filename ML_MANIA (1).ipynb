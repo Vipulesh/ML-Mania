{
  "nbformat": 4,
  "nbformat_minor": 0,
  "metadata": {
    "colab": {
      "provenance": []
    },
    "kernelspec": {
      "name": "python3",
      "display_name": "Python 3"
    },
    "language_info": {
      "name": "python"
    }
  },
  "cells": [
    {
      "cell_type": "code",
      "execution_count": null,
      "metadata": {
        "id": "l8nf8_oJ-mm3"
      },
      "outputs": [],
      "source": [
        "import pandas as pd\n",
        "import numpy as np\n",
        "import matplotlib.pyplot as plt\n",
        "import sklearn\n",
        "import warnings\n",
        "def ignore_warn(*args, **kwargs):\n",
        "    pass\n",
        "warnings.warn = ignore_warn"
      ]
    },
    {
      "cell_type": "code",
      "source": [
        "df=pd.read_csv('train.csv')"
      ],
      "metadata": {
        "id": "6hk54rew-3Zz"
      },
      "execution_count": null,
      "outputs": []
    },
    {
      "cell_type": "code",
      "source": [
        "df.tail(10)"
      ],
      "metadata": {
        "colab": {
          "base_uri": "https://localhost:8080/",
          "height": 427
        },
        "id": "w6ECokVn_VMF",
        "outputId": "bdba5aa9-a73a-432e-af02-6c81f683e32e"
      },
      "execution_count": null,
      "outputs": [
        {
          "output_type": "execute_result",
          "data": {
            "text/plain": [
              "       UDI  Air_temperature  Air_Speed  Process_temperature  Rotational_speed  \\\n",
              "3989  3990            302.2       9.67                311.3              1602   \n",
              "3990  3991            302.2       4.96                311.2              1692   \n",
              "3991  3992            302.3       5.96                311.3              1682   \n",
              "3992  3993            302.3       8.33                311.3              1614   \n",
              "3993  3994            302.3       8.42                311.3              1324   \n",
              "3994  3995            302.3      11.12                311.4              1434   \n",
              "3995  3996            302.3      11.58                311.3              1621   \n",
              "3996  3997            302.3      12.29                311.3              1625   \n",
              "3997  3998            302.2      10.88                311.1              1394   \n",
              "3998  3999            302.1      12.08                311.0              1586   \n",
              "\n",
              "      Atmospheric_temperature  Tool_wear  Torque Force_in_x_axis  \\\n",
              "3989                   309.15        120    32.8      8.49123752   \n",
              "3990                   309.15        122    28.2     8.494337362   \n",
              "3991                   309.15        127    34.4     8.497437204   \n",
              "3992                   309.15        129    34.1     8.500537046   \n",
              "3993                   309.15        131    47.8     8.503636888   \n",
              "3994                   309.15        133    40.3      8.50673673   \n",
              "3995                   309.15        135    31.6     8.509836572   \n",
              "3996                   309.15        137    33.1     8.512936414   \n",
              "3997                   309.15        140    53.7     8.516036256   \n",
              "3998                   309.15        142    35.1     8.519136098   \n",
              "\n",
              "     Force_in_y_axis Force_in_z_axis  \n",
              "3989   -0.5223764406     21.25595952  \n",
              "3990   -0.5185816824       21.164857  \n",
              "3991   -0.5147869242     21.07375447  \n",
              "3992   -0.5109921659     20.98265195  \n",
              "3993   -0.5071974077     20.89154943  \n",
              "3994   -0.5034026495     20.80044691  \n",
              "3995   -0.4996078913     20.70934438  \n",
              "3996   -0.4958131331     20.61824186  \n",
              "3997   -0.4920183749     20.52713934  \n",
              "3998   -0.4882236167     20.43603682  "
            ],
            "text/html": [
              "\n",
              "  <div id=\"df-4c070675-1304-4877-93b4-a0f6d1034e77\">\n",
              "    <div class=\"colab-df-container\">\n",
              "      <div>\n",
              "<style scoped>\n",
              "    .dataframe tbody tr th:only-of-type {\n",
              "        vertical-align: middle;\n",
              "    }\n",
              "\n",
              "    .dataframe tbody tr th {\n",
              "        vertical-align: top;\n",
              "    }\n",
              "\n",
              "    .dataframe thead th {\n",
              "        text-align: right;\n",
              "    }\n",
              "</style>\n",
              "<table border=\"1\" class=\"dataframe\">\n",
              "  <thead>\n",
              "    <tr style=\"text-align: right;\">\n",
              "      <th></th>\n",
              "      <th>UDI</th>\n",
              "      <th>Air_temperature</th>\n",
              "      <th>Air_Speed</th>\n",
              "      <th>Process_temperature</th>\n",
              "      <th>Rotational_speed</th>\n",
              "      <th>Atmospheric_temperature</th>\n",
              "      <th>Tool_wear</th>\n",
              "      <th>Torque</th>\n",
              "      <th>Force_in_x_axis</th>\n",
              "      <th>Force_in_y_axis</th>\n",
              "      <th>Force_in_z_axis</th>\n",
              "    </tr>\n",
              "  </thead>\n",
              "  <tbody>\n",
              "    <tr>\n",
              "      <th>3989</th>\n",
              "      <td>3990</td>\n",
              "      <td>302.2</td>\n",
              "      <td>9.67</td>\n",
              "      <td>311.3</td>\n",
              "      <td>1602</td>\n",
              "      <td>309.15</td>\n",
              "      <td>120</td>\n",
              "      <td>32.8</td>\n",
              "      <td>8.49123752</td>\n",
              "      <td>-0.5223764406</td>\n",
              "      <td>21.25595952</td>\n",
              "    </tr>\n",
              "    <tr>\n",
              "      <th>3990</th>\n",
              "      <td>3991</td>\n",
              "      <td>302.2</td>\n",
              "      <td>4.96</td>\n",
              "      <td>311.2</td>\n",
              "      <td>1692</td>\n",
              "      <td>309.15</td>\n",
              "      <td>122</td>\n",
              "      <td>28.2</td>\n",
              "      <td>8.494337362</td>\n",
              "      <td>-0.5185816824</td>\n",
              "      <td>21.164857</td>\n",
              "    </tr>\n",
              "    <tr>\n",
              "      <th>3991</th>\n",
              "      <td>3992</td>\n",
              "      <td>302.3</td>\n",
              "      <td>5.96</td>\n",
              "      <td>311.3</td>\n",
              "      <td>1682</td>\n",
              "      <td>309.15</td>\n",
              "      <td>127</td>\n",
              "      <td>34.4</td>\n",
              "      <td>8.497437204</td>\n",
              "      <td>-0.5147869242</td>\n",
              "      <td>21.07375447</td>\n",
              "    </tr>\n",
              "    <tr>\n",
              "      <th>3992</th>\n",
              "      <td>3993</td>\n",
              "      <td>302.3</td>\n",
              "      <td>8.33</td>\n",
              "      <td>311.3</td>\n",
              "      <td>1614</td>\n",
              "      <td>309.15</td>\n",
              "      <td>129</td>\n",
              "      <td>34.1</td>\n",
              "      <td>8.500537046</td>\n",
              "      <td>-0.5109921659</td>\n",
              "      <td>20.98265195</td>\n",
              "    </tr>\n",
              "    <tr>\n",
              "      <th>3993</th>\n",
              "      <td>3994</td>\n",
              "      <td>302.3</td>\n",
              "      <td>8.42</td>\n",
              "      <td>311.3</td>\n",
              "      <td>1324</td>\n",
              "      <td>309.15</td>\n",
              "      <td>131</td>\n",
              "      <td>47.8</td>\n",
              "      <td>8.503636888</td>\n",
              "      <td>-0.5071974077</td>\n",
              "      <td>20.89154943</td>\n",
              "    </tr>\n",
              "    <tr>\n",
              "      <th>3994</th>\n",
              "      <td>3995</td>\n",
              "      <td>302.3</td>\n",
              "      <td>11.12</td>\n",
              "      <td>311.4</td>\n",
              "      <td>1434</td>\n",
              "      <td>309.15</td>\n",
              "      <td>133</td>\n",
              "      <td>40.3</td>\n",
              "      <td>8.50673673</td>\n",
              "      <td>-0.5034026495</td>\n",
              "      <td>20.80044691</td>\n",
              "    </tr>\n",
              "    <tr>\n",
              "      <th>3995</th>\n",
              "      <td>3996</td>\n",
              "      <td>302.3</td>\n",
              "      <td>11.58</td>\n",
              "      <td>311.3</td>\n",
              "      <td>1621</td>\n",
              "      <td>309.15</td>\n",
              "      <td>135</td>\n",
              "      <td>31.6</td>\n",
              "      <td>8.509836572</td>\n",
              "      <td>-0.4996078913</td>\n",
              "      <td>20.70934438</td>\n",
              "    </tr>\n",
              "    <tr>\n",
              "      <th>3996</th>\n",
              "      <td>3997</td>\n",
              "      <td>302.3</td>\n",
              "      <td>12.29</td>\n",
              "      <td>311.3</td>\n",
              "      <td>1625</td>\n",
              "      <td>309.15</td>\n",
              "      <td>137</td>\n",
              "      <td>33.1</td>\n",
              "      <td>8.512936414</td>\n",
              "      <td>-0.4958131331</td>\n",
              "      <td>20.61824186</td>\n",
              "    </tr>\n",
              "    <tr>\n",
              "      <th>3997</th>\n",
              "      <td>3998</td>\n",
              "      <td>302.2</td>\n",
              "      <td>10.88</td>\n",
              "      <td>311.1</td>\n",
              "      <td>1394</td>\n",
              "      <td>309.15</td>\n",
              "      <td>140</td>\n",
              "      <td>53.7</td>\n",
              "      <td>8.516036256</td>\n",
              "      <td>-0.4920183749</td>\n",
              "      <td>20.52713934</td>\n",
              "    </tr>\n",
              "    <tr>\n",
              "      <th>3998</th>\n",
              "      <td>3999</td>\n",
              "      <td>302.1</td>\n",
              "      <td>12.08</td>\n",
              "      <td>311.0</td>\n",
              "      <td>1586</td>\n",
              "      <td>309.15</td>\n",
              "      <td>142</td>\n",
              "      <td>35.1</td>\n",
              "      <td>8.519136098</td>\n",
              "      <td>-0.4882236167</td>\n",
              "      <td>20.43603682</td>\n",
              "    </tr>\n",
              "  </tbody>\n",
              "</table>\n",
              "</div>\n",
              "      <button class=\"colab-df-convert\" onclick=\"convertToInteractive('df-4c070675-1304-4877-93b4-a0f6d1034e77')\"\n",
              "              title=\"Convert this dataframe to an interactive table.\"\n",
              "              style=\"display:none;\">\n",
              "        \n",
              "  <svg xmlns=\"http://www.w3.org/2000/svg\" height=\"24px\"viewBox=\"0 0 24 24\"\n",
              "       width=\"24px\">\n",
              "    <path d=\"M0 0h24v24H0V0z\" fill=\"none\"/>\n",
              "    <path d=\"M18.56 5.44l.94 2.06.94-2.06 2.06-.94-2.06-.94-.94-2.06-.94 2.06-2.06.94zm-11 1L8.5 8.5l.94-2.06 2.06-.94-2.06-.94L8.5 2.5l-.94 2.06-2.06.94zm10 10l.94 2.06.94-2.06 2.06-.94-2.06-.94-.94-2.06-.94 2.06-2.06.94z\"/><path d=\"M17.41 7.96l-1.37-1.37c-.4-.4-.92-.59-1.43-.59-.52 0-1.04.2-1.43.59L10.3 9.45l-7.72 7.72c-.78.78-.78 2.05 0 2.83L4 21.41c.39.39.9.59 1.41.59.51 0 1.02-.2 1.41-.59l7.78-7.78 2.81-2.81c.8-.78.8-2.07 0-2.86zM5.41 20L4 18.59l7.72-7.72 1.47 1.35L5.41 20z\"/>\n",
              "  </svg>\n",
              "      </button>\n",
              "      \n",
              "  <style>\n",
              "    .colab-df-container {\n",
              "      display:flex;\n",
              "      flex-wrap:wrap;\n",
              "      gap: 12px;\n",
              "    }\n",
              "\n",
              "    .colab-df-convert {\n",
              "      background-color: #E8F0FE;\n",
              "      border: none;\n",
              "      border-radius: 50%;\n",
              "      cursor: pointer;\n",
              "      display: none;\n",
              "      fill: #1967D2;\n",
              "      height: 32px;\n",
              "      padding: 0 0 0 0;\n",
              "      width: 32px;\n",
              "    }\n",
              "\n",
              "    .colab-df-convert:hover {\n",
              "      background-color: #E2EBFA;\n",
              "      box-shadow: 0px 1px 2px rgba(60, 64, 67, 0.3), 0px 1px 3px 1px rgba(60, 64, 67, 0.15);\n",
              "      fill: #174EA6;\n",
              "    }\n",
              "\n",
              "    [theme=dark] .colab-df-convert {\n",
              "      background-color: #3B4455;\n",
              "      fill: #D2E3FC;\n",
              "    }\n",
              "\n",
              "    [theme=dark] .colab-df-convert:hover {\n",
              "      background-color: #434B5C;\n",
              "      box-shadow: 0px 1px 3px 1px rgba(0, 0, 0, 0.15);\n",
              "      filter: drop-shadow(0px 1px 2px rgba(0, 0, 0, 0.3));\n",
              "      fill: #FFFFFF;\n",
              "    }\n",
              "  </style>\n",
              "\n",
              "      <script>\n",
              "        const buttonEl =\n",
              "          document.querySelector('#df-4c070675-1304-4877-93b4-a0f6d1034e77 button.colab-df-convert');\n",
              "        buttonEl.style.display =\n",
              "          google.colab.kernel.accessAllowed ? 'block' : 'none';\n",
              "\n",
              "        async function convertToInteractive(key) {\n",
              "          const element = document.querySelector('#df-4c070675-1304-4877-93b4-a0f6d1034e77');\n",
              "          const dataTable =\n",
              "            await google.colab.kernel.invokeFunction('convertToInteractive',\n",
              "                                                     [key], {});\n",
              "          if (!dataTable) return;\n",
              "\n",
              "          const docLinkHtml = 'Like what you see? Visit the ' +\n",
              "            '<a target=\"_blank\" href=https://colab.research.google.com/notebooks/data_table.ipynb>data table notebook</a>'\n",
              "            + ' to learn more about interactive tables.';\n",
              "          element.innerHTML = '';\n",
              "          dataTable['output_type'] = 'display_data';\n",
              "          await google.colab.output.renderOutput(dataTable, element);\n",
              "          const docLink = document.createElement('div');\n",
              "          docLink.innerHTML = docLinkHtml;\n",
              "          element.appendChild(docLink);\n",
              "        }\n",
              "      </script>\n",
              "    </div>\n",
              "  </div>\n",
              "  "
            ]
          },
          "metadata": {},
          "execution_count": 3
        }
      ]
    },
    {
      "cell_type": "code",
      "source": [
        "df.info()"
      ],
      "metadata": {
        "colab": {
          "base_uri": "https://localhost:8080/"
        },
        "id": "K-4E_5ij_C9u",
        "outputId": "30bb40af-7cf9-4ef3-d233-e55a11a83374"
      },
      "execution_count": null,
      "outputs": [
        {
          "output_type": "stream",
          "name": "stdout",
          "text": [
            "<class 'pandas.core.frame.DataFrame'>\n",
            "RangeIndex: 3999 entries, 0 to 3998\n",
            "Data columns (total 11 columns):\n",
            " #   Column                   Non-Null Count  Dtype  \n",
            "---  ------                   --------------  -----  \n",
            " 0   UDI                      3999 non-null   int64  \n",
            " 1   Air_temperature          3999 non-null   float64\n",
            " 2   Air_Speed                3999 non-null   float64\n",
            " 3   Process_temperature      3999 non-null   float64\n",
            " 4   Rotational_speed         3999 non-null   int64  \n",
            " 5   Atmospheric_temperature  3999 non-null   float64\n",
            " 6   Tool_wear                3999 non-null   int64  \n",
            " 7   Torque                   3999 non-null   float64\n",
            " 8   Force_in_x_axis          3999 non-null   object \n",
            " 9   Force_in_y_axis          3999 non-null   object \n",
            " 10  Force_in_z_axis          3999 non-null   object \n",
            "dtypes: float64(5), int64(3), object(3)\n",
            "memory usage: 343.8+ KB\n"
          ]
        }
      ]
    },
    {
      "cell_type": "code",
      "source": [
        "df['Force_in_x_axis']=pd.to_numeric(df['Force_in_x_axis'],errors='coerce')\n",
        "df['Force_in_y_axis']=pd.to_numeric(df['Force_in_y_axis'],errors='coerce')\n",
        "df['Force_in_z_axis']=pd.to_numeric(df['Force_in_z_axis'],errors='coerce')"
      ],
      "metadata": {
        "id": "mwJ2v0M1AdC7"
      },
      "execution_count": null,
      "outputs": []
    },
    {
      "cell_type": "code",
      "source": [
        "df.info()"
      ],
      "metadata": {
        "colab": {
          "base_uri": "https://localhost:8080/"
        },
        "id": "gxlaIQnCBbVf",
        "outputId": "cc06611b-646b-4c85-95f0-e4a95491146d"
      },
      "execution_count": null,
      "outputs": [
        {
          "output_type": "stream",
          "name": "stdout",
          "text": [
            "<class 'pandas.core.frame.DataFrame'>\n",
            "RangeIndex: 3999 entries, 0 to 3998\n",
            "Data columns (total 11 columns):\n",
            " #   Column                   Non-Null Count  Dtype  \n",
            "---  ------                   --------------  -----  \n",
            " 0   UDI                      3999 non-null   int64  \n",
            " 1   Air_temperature          3999 non-null   float64\n",
            " 2   Air_Speed                3999 non-null   float64\n",
            " 3   Process_temperature      3999 non-null   float64\n",
            " 4   Rotational_speed         3999 non-null   int64  \n",
            " 5   Atmospheric_temperature  3999 non-null   float64\n",
            " 6   Tool_wear                3999 non-null   int64  \n",
            " 7   Torque                   3999 non-null   float64\n",
            " 8   Force_in_x_axis          3998 non-null   float64\n",
            " 9   Force_in_y_axis          3998 non-null   float64\n",
            " 10  Force_in_z_axis          3998 non-null   float64\n",
            "dtypes: float64(8), int64(3)\n",
            "memory usage: 343.8 KB\n"
          ]
        }
      ]
    },
    {
      "cell_type": "code",
      "source": [
        "df['Force_in_x_axis']=df['Force_in_x_axis'].fillna(df['Force_in_x_axis'].median())\n",
        "df['Force_in_y_axis']=df['Force_in_y_axis'].fillna(df['Force_in_y_axis'].median())\n",
        "df['Force_in_z_axis']=df['Force_in_z_axis'].fillna(df['Force_in_z_axis'].median())"
      ],
      "metadata": {
        "id": "G3yGCl8PDeO3"
      },
      "execution_count": null,
      "outputs": []
    },
    {
      "cell_type": "code",
      "source": [
        "corr_matrix=df.corr()"
      ],
      "metadata": {
        "id": "ling-Vtj_EH4"
      },
      "execution_count": null,
      "outputs": []
    },
    {
      "cell_type": "code",
      "source": [
        "corr_matrix['Torque']"
      ],
      "metadata": {
        "colab": {
          "base_uri": "https://localhost:8080/"
        },
        "id": "yHL-nlp6AD8a",
        "outputId": "33692fb0-23a6-4352-ce82-cf33892fd4dd"
      },
      "execution_count": null,
      "outputs": [
        {
          "output_type": "execute_result",
          "data": {
            "text/plain": [
              "UDI                       -0.007707\n",
              "Air_temperature           -0.016950\n",
              "Air_Speed                  0.018407\n",
              "Process_temperature       -0.021870\n",
              "Rotational_speed          -0.873034\n",
              "Atmospheric_temperature    0.001304\n",
              "Tool_wear                  0.012663\n",
              "Torque                     1.000000\n",
              "Force_in_x_axis            0.025940\n",
              "Force_in_y_axis           -0.003325\n",
              "Force_in_z_axis           -0.000358\n",
              "Name: Torque, dtype: float64"
            ]
          },
          "metadata": {},
          "execution_count": 9
        }
      ]
    },
    {
      "cell_type": "code",
      "source": [
        "df.head()"
      ],
      "metadata": {
        "colab": {
          "base_uri": "https://localhost:8080/",
          "height": 270
        },
        "id": "99gyoZq_FRIG",
        "outputId": "56bba8e1-8f39-4957-c5f5-a4978e968292"
      },
      "execution_count": null,
      "outputs": [
        {
          "output_type": "execute_result",
          "data": {
            "text/plain": [
              "   UDI  Air_temperature  Air_Speed  Process_temperature  Rotational_speed  \\\n",
              "0    1            298.1      13.67                308.6              1551   \n",
              "1    2            298.2      11.50                308.7              1408   \n",
              "2    3            298.1      11.25                308.5              1498   \n",
              "3    4            298.2       8.63                308.6              1433   \n",
              "4    5            298.2      11.92                308.7              1408   \n",
              "\n",
              "   Atmospheric_temperature  Tool_wear  Torque  Force_in_x_axis  \\\n",
              "0                   302.15          0    42.8        28.714100   \n",
              "1                   302.15          3    46.3        28.815765   \n",
              "2                   314.15          5    49.4        28.874094   \n",
              "3                   314.15          7    39.5        28.890919   \n",
              "4                   304.15          9    40.0        28.867971   \n",
              "\n",
              "   Force_in_y_axis  Force_in_z_axis  \n",
              "0        -5.640320        81.108917  \n",
              "1        -5.483627        81.274582  \n",
              "2        -5.307098        81.407852  \n",
              "3        -5.112090        81.514557  \n",
              "4        -4.899905        81.600212  "
            ],
            "text/html": [
              "\n",
              "  <div id=\"df-f5e51560-9280-4a82-9e46-839cec3796d3\">\n",
              "    <div class=\"colab-df-container\">\n",
              "      <div>\n",
              "<style scoped>\n",
              "    .dataframe tbody tr th:only-of-type {\n",
              "        vertical-align: middle;\n",
              "    }\n",
              "\n",
              "    .dataframe tbody tr th {\n",
              "        vertical-align: top;\n",
              "    }\n",
              "\n",
              "    .dataframe thead th {\n",
              "        text-align: right;\n",
              "    }\n",
              "</style>\n",
              "<table border=\"1\" class=\"dataframe\">\n",
              "  <thead>\n",
              "    <tr style=\"text-align: right;\">\n",
              "      <th></th>\n",
              "      <th>UDI</th>\n",
              "      <th>Air_temperature</th>\n",
              "      <th>Air_Speed</th>\n",
              "      <th>Process_temperature</th>\n",
              "      <th>Rotational_speed</th>\n",
              "      <th>Atmospheric_temperature</th>\n",
              "      <th>Tool_wear</th>\n",
              "      <th>Torque</th>\n",
              "      <th>Force_in_x_axis</th>\n",
              "      <th>Force_in_y_axis</th>\n",
              "      <th>Force_in_z_axis</th>\n",
              "    </tr>\n",
              "  </thead>\n",
              "  <tbody>\n",
              "    <tr>\n",
              "      <th>0</th>\n",
              "      <td>1</td>\n",
              "      <td>298.1</td>\n",
              "      <td>13.67</td>\n",
              "      <td>308.6</td>\n",
              "      <td>1551</td>\n",
              "      <td>302.15</td>\n",
              "      <td>0</td>\n",
              "      <td>42.8</td>\n",
              "      <td>28.714100</td>\n",
              "      <td>-5.640320</td>\n",
              "      <td>81.108917</td>\n",
              "    </tr>\n",
              "    <tr>\n",
              "      <th>1</th>\n",
              "      <td>2</td>\n",
              "      <td>298.2</td>\n",
              "      <td>11.50</td>\n",
              "      <td>308.7</td>\n",
              "      <td>1408</td>\n",
              "      <td>302.15</td>\n",
              "      <td>3</td>\n",
              "      <td>46.3</td>\n",
              "      <td>28.815765</td>\n",
              "      <td>-5.483627</td>\n",
              "      <td>81.274582</td>\n",
              "    </tr>\n",
              "    <tr>\n",
              "      <th>2</th>\n",
              "      <td>3</td>\n",
              "      <td>298.1</td>\n",
              "      <td>11.25</td>\n",
              "      <td>308.5</td>\n",
              "      <td>1498</td>\n",
              "      <td>314.15</td>\n",
              "      <td>5</td>\n",
              "      <td>49.4</td>\n",
              "      <td>28.874094</td>\n",
              "      <td>-5.307098</td>\n",
              "      <td>81.407852</td>\n",
              "    </tr>\n",
              "    <tr>\n",
              "      <th>3</th>\n",
              "      <td>4</td>\n",
              "      <td>298.2</td>\n",
              "      <td>8.63</td>\n",
              "      <td>308.6</td>\n",
              "      <td>1433</td>\n",
              "      <td>314.15</td>\n",
              "      <td>7</td>\n",
              "      <td>39.5</td>\n",
              "      <td>28.890919</td>\n",
              "      <td>-5.112090</td>\n",
              "      <td>81.514557</td>\n",
              "    </tr>\n",
              "    <tr>\n",
              "      <th>4</th>\n",
              "      <td>5</td>\n",
              "      <td>298.2</td>\n",
              "      <td>11.92</td>\n",
              "      <td>308.7</td>\n",
              "      <td>1408</td>\n",
              "      <td>304.15</td>\n",
              "      <td>9</td>\n",
              "      <td>40.0</td>\n",
              "      <td>28.867971</td>\n",
              "      <td>-4.899905</td>\n",
              "      <td>81.600212</td>\n",
              "    </tr>\n",
              "  </tbody>\n",
              "</table>\n",
              "</div>\n",
              "      <button class=\"colab-df-convert\" onclick=\"convertToInteractive('df-f5e51560-9280-4a82-9e46-839cec3796d3')\"\n",
              "              title=\"Convert this dataframe to an interactive table.\"\n",
              "              style=\"display:none;\">\n",
              "        \n",
              "  <svg xmlns=\"http://www.w3.org/2000/svg\" height=\"24px\"viewBox=\"0 0 24 24\"\n",
              "       width=\"24px\">\n",
              "    <path d=\"M0 0h24v24H0V0z\" fill=\"none\"/>\n",
              "    <path d=\"M18.56 5.44l.94 2.06.94-2.06 2.06-.94-2.06-.94-.94-2.06-.94 2.06-2.06.94zm-11 1L8.5 8.5l.94-2.06 2.06-.94-2.06-.94L8.5 2.5l-.94 2.06-2.06.94zm10 10l.94 2.06.94-2.06 2.06-.94-2.06-.94-.94-2.06-.94 2.06-2.06.94z\"/><path d=\"M17.41 7.96l-1.37-1.37c-.4-.4-.92-.59-1.43-.59-.52 0-1.04.2-1.43.59L10.3 9.45l-7.72 7.72c-.78.78-.78 2.05 0 2.83L4 21.41c.39.39.9.59 1.41.59.51 0 1.02-.2 1.41-.59l7.78-7.78 2.81-2.81c.8-.78.8-2.07 0-2.86zM5.41 20L4 18.59l7.72-7.72 1.47 1.35L5.41 20z\"/>\n",
              "  </svg>\n",
              "      </button>\n",
              "      \n",
              "  <style>\n",
              "    .colab-df-container {\n",
              "      display:flex;\n",
              "      flex-wrap:wrap;\n",
              "      gap: 12px;\n",
              "    }\n",
              "\n",
              "    .colab-df-convert {\n",
              "      background-color: #E8F0FE;\n",
              "      border: none;\n",
              "      border-radius: 50%;\n",
              "      cursor: pointer;\n",
              "      display: none;\n",
              "      fill: #1967D2;\n",
              "      height: 32px;\n",
              "      padding: 0 0 0 0;\n",
              "      width: 32px;\n",
              "    }\n",
              "\n",
              "    .colab-df-convert:hover {\n",
              "      background-color: #E2EBFA;\n",
              "      box-shadow: 0px 1px 2px rgba(60, 64, 67, 0.3), 0px 1px 3px 1px rgba(60, 64, 67, 0.15);\n",
              "      fill: #174EA6;\n",
              "    }\n",
              "\n",
              "    [theme=dark] .colab-df-convert {\n",
              "      background-color: #3B4455;\n",
              "      fill: #D2E3FC;\n",
              "    }\n",
              "\n",
              "    [theme=dark] .colab-df-convert:hover {\n",
              "      background-color: #434B5C;\n",
              "      box-shadow: 0px 1px 3px 1px rgba(0, 0, 0, 0.15);\n",
              "      filter: drop-shadow(0px 1px 2px rgba(0, 0, 0, 0.3));\n",
              "      fill: #FFFFFF;\n",
              "    }\n",
              "  </style>\n",
              "\n",
              "      <script>\n",
              "        const buttonEl =\n",
              "          document.querySelector('#df-f5e51560-9280-4a82-9e46-839cec3796d3 button.colab-df-convert');\n",
              "        buttonEl.style.display =\n",
              "          google.colab.kernel.accessAllowed ? 'block' : 'none';\n",
              "\n",
              "        async function convertToInteractive(key) {\n",
              "          const element = document.querySelector('#df-f5e51560-9280-4a82-9e46-839cec3796d3');\n",
              "          const dataTable =\n",
              "            await google.colab.kernel.invokeFunction('convertToInteractive',\n",
              "                                                     [key], {});\n",
              "          if (!dataTable) return;\n",
              "\n",
              "          const docLinkHtml = 'Like what you see? Visit the ' +\n",
              "            '<a target=\"_blank\" href=https://colab.research.google.com/notebooks/data_table.ipynb>data table notebook</a>'\n",
              "            + ' to learn more about interactive tables.';\n",
              "          element.innerHTML = '';\n",
              "          dataTable['output_type'] = 'display_data';\n",
              "          await google.colab.output.renderOutput(dataTable, element);\n",
              "          const docLink = document.createElement('div');\n",
              "          docLink.innerHTML = docLinkHtml;\n",
              "          element.appendChild(docLink);\n",
              "        }\n",
              "      </script>\n",
              "    </div>\n",
              "  </div>\n",
              "  "
            ]
          },
          "metadata": {},
          "execution_count": 10
        }
      ]
    },
    {
      "cell_type": "code",
      "source": [
        "df=df.rename(columns={'Force_in_x_axis':'fx','Force_in_y_axis':'fy','Force_in_z_axis':'fz'})\n",
        "df=df.set_index('UDI')"
      ],
      "metadata": {
        "id": "yZHOThIsHIJ5"
      },
      "execution_count": null,
      "outputs": []
    },
    {
      "cell_type": "code",
      "source": [
        "X=df.loc[:,df.columns !='Torque'].values\n",
        "Y=df.iloc[:,6].values"
      ],
      "metadata": {
        "id": "fLhRSTvPFNsP"
      },
      "execution_count": null,
      "outputs": []
    },
    {
      "cell_type": "code",
      "source": [
        "from sklearn.preprocessing import StandardScaler\n",
        "sc=StandardScaler()"
      ],
      "metadata": {
        "id": "TtgQqEHYZVEH"
      },
      "execution_count": null,
      "outputs": []
    },
    {
      "cell_type": "code",
      "source": [
        "from sklearn.model_selection import train_test_split\n",
        "Xtrain,Xtest,Ytrain,Ytest=train_test_split(X,Y,test_size=0.3,random_state=42)"
      ],
      "metadata": {
        "id": "bzoR01gcExPu"
      },
      "execution_count": null,
      "outputs": []
    },
    {
      "cell_type": "code",
      "source": [
        "Xtrain=sc.fit_transform(Xtrain)\n",
        "Xtest=sc.fit_transform(Xtest)"
      ],
      "metadata": {
        "id": "oaWct91PcVov"
      },
      "execution_count": null,
      "outputs": []
    },
    {
      "cell_type": "code",
      "source": [
        "from sklearn.ensemble import GradientBoostingRegressor\n",
        "gbrt = GradientBoostingRegressor(max_depth=5,n_estimators=300,learning_rate=0.03,random_state=42)\n",
        "gbrt.fit(Xtrain,Ytrain)"
      ],
      "metadata": {
        "colab": {
          "base_uri": "https://localhost:8080/"
        },
        "id": "G-iiuUonIk-b",
        "outputId": "77f5c189-8ed2-41c7-dd36-d5f68726a157"
      },
      "execution_count": null,
      "outputs": [
        {
          "output_type": "execute_result",
          "data": {
            "text/plain": [
              "GradientBoostingRegressor(learning_rate=0.03, max_depth=5, n_estimators=300,\n",
              "                          random_state=42)"
            ]
          },
          "metadata": {},
          "execution_count": 16
        }
      ]
    },
    {
      "cell_type": "code",
      "source": [
        "from sklearn.metrics import r2_score, accuracy_score\n",
        "from sklearn import model_selection\n",
        "ypred=gbrt.predict(Xtrain)\n",
        "print(r2_score(Ytrain,ypred))"
      ],
      "metadata": {
        "colab": {
          "base_uri": "https://localhost:8080/"
        },
        "id": "0LZF1g2sNW-O",
        "outputId": "54cae262-cfcd-4e76-9082-d7214df8474f"
      },
      "execution_count": null,
      "outputs": [
        {
          "output_type": "stream",
          "name": "stdout",
          "text": [
            "0.9098263061876937\n"
          ]
        }
      ]
    },
    {
      "cell_type": "code",
      "source": [
        "gbrt.fit(Xtest,Ytest)\n",
        "ypred1=gbrt.predict(Xtest)\n",
        "print(r2_score(Ytest,ypred1))"
      ],
      "metadata": {
        "colab": {
          "base_uri": "https://localhost:8080/"
        },
        "id": "sZTy5nYuPVUP",
        "outputId": "542ed311-de6e-40d0-ece3-c52c56bf9ae6"
      },
      "execution_count": null,
      "outputs": [
        {
          "output_type": "stream",
          "name": "stdout",
          "text": [
            "0.9458408607114248\n"
          ]
        }
      ]
    },
    {
      "cell_type": "code",
      "source": [
        "from sklearn.model_selection import cross_val_score\n",
        "print(cross_val_score(gbrt,Xtest,Ytest,cv=10,scoring='r2'))\n",
        "print(cross_val_score(gbrt,Xtrain,Ytrain,cv=10,scoring='r2'))"
      ],
      "metadata": {
        "colab": {
          "base_uri": "https://localhost:8080/"
        },
        "id": "_Qg-Q_MIQBsU",
        "outputId": "4ef68111-b616-4678-f5fa-5d40a8048138"
      },
      "execution_count": null,
      "outputs": [
        {
          "output_type": "stream",
          "name": "stdout",
          "text": [
            "[0.85594365 0.82944958 0.82077862 0.79808664 0.86343346 0.77333344\n",
            " 0.79722967 0.81936672 0.82895188 0.8220359 ]\n",
            "[0.8675632  0.81593582 0.86809685 0.83670048 0.79402672 0.83765458\n",
            " 0.81188472 0.84808982 0.83779465 0.84616867]\n"
          ]
        }
      ]
    },
    {
      "cell_type": "code",
      "source": [
        "from sklearn.ensemble import AdaBoostRegressor\n",
        "ada=AdaBoostRegressor(n_estimators=1000,learning_rate=0.2,random_state=42)\n",
        "ada.fit(Xtrain,Ytrain)\n",
        "ypred=ada.predict(Xtrain)\n",
        "print(r2_score(Ytrain,ypred))\n",
        "ada.fit(Xtest,Ytest)\n",
        "ypred1=ada.predict(Xtest)\n",
        "print(r2_score(Ytest,ypred1))\n",
        "from sklearn.model_selection import cross_val_score\n",
        "# print(cross_val_score(ada,Xtest,Ytest,cv=10,scoring='r2'))\n",
        "# print(cross_val_score(ada,Xtrain,Ytrain,cv=10,scoring='r2'))"
      ],
      "metadata": {
        "colab": {
          "base_uri": "https://localhost:8080/"
        },
        "id": "2BpaUS1qgL8V",
        "outputId": "9bdf9767-1b4c-41c9-d82a-eaa2ff3ff873"
      },
      "execution_count": null,
      "outputs": [
        {
          "output_type": "stream",
          "name": "stdout",
          "text": [
            "0.8431896672267234\n",
            "0.8478074669405343\n"
          ]
        }
      ]
    },
    {
      "cell_type": "code",
      "source": [
        "from xgboost import XGBRegressor\n",
        "xgr = XGBRegressor(eta= 0.1,\n",
        "          max_leaves= 400,  \n",
        "          max_depth= 9, \n",
        "          random_state= 42, \n",
        "          min_child_weight=30,\n",
        "          silent= True,\n",
        "          subsample=0.8)\n",
        "xgr.fit(Xtrain, Ytrain)\n",
        "ypred=xgr.predict(Xtrain)\n",
        "print(r2_score(Ytrain,ypred))\n",
        "xgr.fit(Xtest,Ytest)\n",
        "ypred1=xgr.predict(Xtest)\n",
        "print(r2_score(Ytest,ypred1))"
      ],
      "metadata": {
        "colab": {
          "base_uri": "https://localhost:8080/"
        },
        "id": "cDqhaDkecv1J",
        "outputId": "4ae48e32-a2a7-4318-891c-b5161898c028"
      },
      "execution_count": null,
      "outputs": [
        {
          "output_type": "stream",
          "name": "stdout",
          "text": [
            "0.9190432211522025\n",
            "0.9303388032158467\n"
          ]
        }
      ]
    },
    {
      "cell_type": "code",
      "source": [
        "from sklearn.model_selection import cross_val_score\n",
        "print(cross_val_score(xgr,Xtest,Ytest,cv=10,scoring='r2'))\n",
        "print(cross_val_score(xgr,Xtrain,Ytrain,cv=10,scoring='r2'))"
      ],
      "metadata": {
        "colab": {
          "base_uri": "https://localhost:8080/"
        },
        "id": "1L2TFrUGdJoK",
        "outputId": "94be5e98-fd21-43c9-fe17-541d79e88665"
      },
      "execution_count": null,
      "outputs": [
        {
          "output_type": "stream",
          "name": "stdout",
          "text": [
            "[0.83862204 0.82726281 0.81415243 0.77926895 0.85261121 0.78696327\n",
            " 0.80162737 0.79218305 0.79751207 0.80628282]\n",
            "[0.86123729 0.80315988 0.86459923 0.83016204 0.79230282 0.83205502\n",
            " 0.799579   0.82507942 0.82913228 0.83596668]\n"
          ]
        }
      ]
    },
    {
      "cell_type": "code",
      "source": [
        "from sklearn.ensemble import RandomForestRegressor\n",
        "rf=RandomForestRegressor(n_estimators=400,max_depth=5,random_state=42)\n",
        "rf.fit(Xtrain,Ytrain)\n",
        "ypred=rf.predict(Xtrain)\n",
        "print(r2_score(Ytrain,ypred))\n",
        "rf.fit(Xtest,Ytest)\n",
        "ypred1=rf.predict(Xtest)\n",
        "print(r2_score(Ytest,ypred1))\n",
        "from sklearn.model_selection import cross_val_score\n",
        "# print(cross_val_score(rf,Xtest,Ytest,cv=10,scoring='r2'))\n",
        "# print(cross_val_score(rf,Xtrain,Ytrain,cv=10,scoring='r2'))"
      ],
      "metadata": {
        "colab": {
          "base_uri": "https://localhost:8080/"
        },
        "id": "B9CHpb5Gzgwu",
        "outputId": "3dd6f522-06e2-42d7-cd3f-78babd5551b3"
      },
      "execution_count": null,
      "outputs": [
        {
          "output_type": "stream",
          "name": "stdout",
          "text": [
            "0.8651580132773202\n",
            "0.8781832589557882\n"
          ]
        }
      ]
    },
    {
      "cell_type": "markdown",
      "source": [
        "Stacking the models"
      ],
      "metadata": {
        "id": "1GLgPkXpoIk2"
      }
    },
    {
      "cell_type": "code",
      "source": [
        "from mlxtend.regressor import StackingCVRegressor"
      ],
      "metadata": {
        "id": "NTPQfqhyoICc"
      },
      "execution_count": null,
      "outputs": []
    },
    {
      "cell_type": "code",
      "source": [
        "stack=StackingCVRegressor(regressors=(xgr,rf,gbrt,ada),meta_regressor=xgr)"
      ],
      "metadata": {
        "id": "MVhcIe7HoHyp"
      },
      "execution_count": null,
      "outputs": []
    },
    {
      "cell_type": "code",
      "source": [
        "stack.fit(Xtrain,Ytrain)"
      ],
      "metadata": {
        "colab": {
          "base_uri": "https://localhost:8080/"
        },
        "id": "lfmhVY1UqRdc",
        "outputId": "87765c27-1bc1-4bc1-d67a-69f6c4f20a8a"
      },
      "execution_count": null,
      "outputs": [
        {
          "output_type": "execute_result",
          "data": {
            "text/plain": [
              "StackingCVRegressor(meta_regressor=XGBRegressor(eta=0.03, max_depth=5,\n",
              "                                                max_leaves=400,\n",
              "                                                min_child_weight=30,\n",
              "                                                random_state=42, silent=True),\n",
              "                    regressors=(XGBRegressor(eta=0.03, max_depth=5,\n",
              "                                             max_leaves=400,\n",
              "                                             min_child_weight=30,\n",
              "                                             random_state=42, silent=True),\n",
              "                                RandomForestRegressor(max_depth=5,\n",
              "                                                      n_estimators=400,\n",
              "                                                      random_state=42),\n",
              "                                GradientBoostingRegressor(learning_rate=0.03,\n",
              "                                                          max_depth=5,\n",
              "                                                          n_estimators=300,\n",
              "                                                          random_state=42),\n",
              "                                AdaBoostRegressor(learning_rate=0.2,\n",
              "                                                  n_estimators=1000,\n",
              "                                                  random_state=42)))"
            ]
          },
          "metadata": {},
          "execution_count": 65
        }
      ]
    },
    {
      "cell_type": "code",
      "source": [
        "ypred=stack.predict(Xtrain)\n",
        "print(r2_score(Ytrain,ypred))\n",
        "stack.fit(Xtest,Ytest)\n",
        "ypred1=stack.predict(Xtest)\n",
        "print(r2_score(Ytest,ypred1))\n",
        "from sklearn.model_selection import cross_val_score\n",
        "# print(cross_val_score(stack,Xtest,Ytest,cv=3,scoring='r2'))\n",
        "# print(cross_val_score(stack,Xtrain,Ytrain,cv=3,scoring='r2'))"
      ],
      "metadata": {
        "colab": {
          "base_uri": "https://localhost:8080/"
        },
        "id": "xrB2_v-Hu60i",
        "outputId": "d20ec122-5d39-4ff4-f8a5-7dff14840e9f"
      },
      "execution_count": null,
      "outputs": [
        {
          "output_type": "stream",
          "name": "stdout",
          "text": [
            "0.8591878532156381\n",
            "0.8580848292435694\n"
          ]
        }
      ]
    },
    {
      "cell_type": "code",
      "source": [
        "test=pd.read_csv('test.csv')\n",
        "test['Force_in_x_axis']=pd.to_numeric(test['Force_in_x_axis'],errors='coerce')\n",
        "test['Force_in_y_axis']=pd.to_numeric(test['Force_in_y_axis'],errors='coerce')\n",
        "test['Force_in_z_axis']=pd.to_numeric(test['Force_in_z_axis'],errors='coerce')\n",
        "test['Force_in_x_axis']=test['Force_in_x_axis'].fillna(test['Force_in_x_axis'].median())\n",
        "test['Force_in_y_axis']=test['Force_in_y_axis'].fillna(test['Force_in_y_axis'].median())\n",
        "test['Force_in_z_axis']=test['Force_in_z_axis'].fillna(test['Force_in_z_axis'].median())\n",
        "test=test.rename(columns={'Force_in_x_axis':'fx','Force_in_y_axis':'fy','Force_in_z_axis':'fz'})\n",
        "test=test.set_index('UDI')"
      ],
      "metadata": {
        "id": "5OTGZiBZaGH3"
      },
      "execution_count": null,
      "outputs": []
    },
    {
      "cell_type": "code",
      "source": [
        "test.tail()"
      ],
      "metadata": {
        "colab": {
          "base_uri": "https://localhost:8080/",
          "height": 237
        },
        "id": "V1vJblTkbcON",
        "outputId": "1fbed608-967e-48e5-b1eb-d8e0e183c232"
      },
      "execution_count": null,
      "outputs": [
        {
          "output_type": "execute_result",
          "data": {
            "text/plain": [
              "      Air_temperature  Air_Speed  Process_temperature  Rotational_speed  \\\n",
              "UDI                                                                       \n",
              "4995            303.5      12.79                312.6              1642   \n",
              "4996            303.6       8.04                312.6              1540   \n",
              "4997            303.6       8.29                312.8              1400   \n",
              "4998            303.6      16.21                312.8              2659   \n",
              "4999            303.6      10.88                312.8              1825   \n",
              "\n",
              "      Atmospheric_temperature  Tool_wear         fx        fy         fz  \n",
              "UDI                                                                       \n",
              "4995                   300.15         18  11.606579  3.291356 -70.302076  \n",
              "4996                   300.15         21  11.609679  3.295150 -70.393178  \n",
              "4997                   309.15         23  11.612778  3.298945 -70.484281  \n",
              "4998                   309.15         26  11.615878  3.302740 -70.575383  \n",
              "4999                   308.15         29  11.618978  3.306535 -70.666486  "
            ],
            "text/html": [
              "\n",
              "  <div id=\"df-3d8d7f95-8a4d-4926-87b0-f308a74b769c\">\n",
              "    <div class=\"colab-df-container\">\n",
              "      <div>\n",
              "<style scoped>\n",
              "    .dataframe tbody tr th:only-of-type {\n",
              "        vertical-align: middle;\n",
              "    }\n",
              "\n",
              "    .dataframe tbody tr th {\n",
              "        vertical-align: top;\n",
              "    }\n",
              "\n",
              "    .dataframe thead th {\n",
              "        text-align: right;\n",
              "    }\n",
              "</style>\n",
              "<table border=\"1\" class=\"dataframe\">\n",
              "  <thead>\n",
              "    <tr style=\"text-align: right;\">\n",
              "      <th></th>\n",
              "      <th>Air_temperature</th>\n",
              "      <th>Air_Speed</th>\n",
              "      <th>Process_temperature</th>\n",
              "      <th>Rotational_speed</th>\n",
              "      <th>Atmospheric_temperature</th>\n",
              "      <th>Tool_wear</th>\n",
              "      <th>fx</th>\n",
              "      <th>fy</th>\n",
              "      <th>fz</th>\n",
              "    </tr>\n",
              "    <tr>\n",
              "      <th>UDI</th>\n",
              "      <th></th>\n",
              "      <th></th>\n",
              "      <th></th>\n",
              "      <th></th>\n",
              "      <th></th>\n",
              "      <th></th>\n",
              "      <th></th>\n",
              "      <th></th>\n",
              "      <th></th>\n",
              "    </tr>\n",
              "  </thead>\n",
              "  <tbody>\n",
              "    <tr>\n",
              "      <th>4995</th>\n",
              "      <td>303.5</td>\n",
              "      <td>12.79</td>\n",
              "      <td>312.6</td>\n",
              "      <td>1642</td>\n",
              "      <td>300.15</td>\n",
              "      <td>18</td>\n",
              "      <td>11.606579</td>\n",
              "      <td>3.291356</td>\n",
              "      <td>-70.302076</td>\n",
              "    </tr>\n",
              "    <tr>\n",
              "      <th>4996</th>\n",
              "      <td>303.6</td>\n",
              "      <td>8.04</td>\n",
              "      <td>312.6</td>\n",
              "      <td>1540</td>\n",
              "      <td>300.15</td>\n",
              "      <td>21</td>\n",
              "      <td>11.609679</td>\n",
              "      <td>3.295150</td>\n",
              "      <td>-70.393178</td>\n",
              "    </tr>\n",
              "    <tr>\n",
              "      <th>4997</th>\n",
              "      <td>303.6</td>\n",
              "      <td>8.29</td>\n",
              "      <td>312.8</td>\n",
              "      <td>1400</td>\n",
              "      <td>309.15</td>\n",
              "      <td>23</td>\n",
              "      <td>11.612778</td>\n",
              "      <td>3.298945</td>\n",
              "      <td>-70.484281</td>\n",
              "    </tr>\n",
              "    <tr>\n",
              "      <th>4998</th>\n",
              "      <td>303.6</td>\n",
              "      <td>16.21</td>\n",
              "      <td>312.8</td>\n",
              "      <td>2659</td>\n",
              "      <td>309.15</td>\n",
              "      <td>26</td>\n",
              "      <td>11.615878</td>\n",
              "      <td>3.302740</td>\n",
              "      <td>-70.575383</td>\n",
              "    </tr>\n",
              "    <tr>\n",
              "      <th>4999</th>\n",
              "      <td>303.6</td>\n",
              "      <td>10.88</td>\n",
              "      <td>312.8</td>\n",
              "      <td>1825</td>\n",
              "      <td>308.15</td>\n",
              "      <td>29</td>\n",
              "      <td>11.618978</td>\n",
              "      <td>3.306535</td>\n",
              "      <td>-70.666486</td>\n",
              "    </tr>\n",
              "  </tbody>\n",
              "</table>\n",
              "</div>\n",
              "      <button class=\"colab-df-convert\" onclick=\"convertToInteractive('df-3d8d7f95-8a4d-4926-87b0-f308a74b769c')\"\n",
              "              title=\"Convert this dataframe to an interactive table.\"\n",
              "              style=\"display:none;\">\n",
              "        \n",
              "  <svg xmlns=\"http://www.w3.org/2000/svg\" height=\"24px\"viewBox=\"0 0 24 24\"\n",
              "       width=\"24px\">\n",
              "    <path d=\"M0 0h24v24H0V0z\" fill=\"none\"/>\n",
              "    <path d=\"M18.56 5.44l.94 2.06.94-2.06 2.06-.94-2.06-.94-.94-2.06-.94 2.06-2.06.94zm-11 1L8.5 8.5l.94-2.06 2.06-.94-2.06-.94L8.5 2.5l-.94 2.06-2.06.94zm10 10l.94 2.06.94-2.06 2.06-.94-2.06-.94-.94-2.06-.94 2.06-2.06.94z\"/><path d=\"M17.41 7.96l-1.37-1.37c-.4-.4-.92-.59-1.43-.59-.52 0-1.04.2-1.43.59L10.3 9.45l-7.72 7.72c-.78.78-.78 2.05 0 2.83L4 21.41c.39.39.9.59 1.41.59.51 0 1.02-.2 1.41-.59l7.78-7.78 2.81-2.81c.8-.78.8-2.07 0-2.86zM5.41 20L4 18.59l7.72-7.72 1.47 1.35L5.41 20z\"/>\n",
              "  </svg>\n",
              "      </button>\n",
              "      \n",
              "  <style>\n",
              "    .colab-df-container {\n",
              "      display:flex;\n",
              "      flex-wrap:wrap;\n",
              "      gap: 12px;\n",
              "    }\n",
              "\n",
              "    .colab-df-convert {\n",
              "      background-color: #E8F0FE;\n",
              "      border: none;\n",
              "      border-radius: 50%;\n",
              "      cursor: pointer;\n",
              "      display: none;\n",
              "      fill: #1967D2;\n",
              "      height: 32px;\n",
              "      padding: 0 0 0 0;\n",
              "      width: 32px;\n",
              "    }\n",
              "\n",
              "    .colab-df-convert:hover {\n",
              "      background-color: #E2EBFA;\n",
              "      box-shadow: 0px 1px 2px rgba(60, 64, 67, 0.3), 0px 1px 3px 1px rgba(60, 64, 67, 0.15);\n",
              "      fill: #174EA6;\n",
              "    }\n",
              "\n",
              "    [theme=dark] .colab-df-convert {\n",
              "      background-color: #3B4455;\n",
              "      fill: #D2E3FC;\n",
              "    }\n",
              "\n",
              "    [theme=dark] .colab-df-convert:hover {\n",
              "      background-color: #434B5C;\n",
              "      box-shadow: 0px 1px 3px 1px rgba(0, 0, 0, 0.15);\n",
              "      filter: drop-shadow(0px 1px 2px rgba(0, 0, 0, 0.3));\n",
              "      fill: #FFFFFF;\n",
              "    }\n",
              "  </style>\n",
              "\n",
              "      <script>\n",
              "        const buttonEl =\n",
              "          document.querySelector('#df-3d8d7f95-8a4d-4926-87b0-f308a74b769c button.colab-df-convert');\n",
              "        buttonEl.style.display =\n",
              "          google.colab.kernel.accessAllowed ? 'block' : 'none';\n",
              "\n",
              "        async function convertToInteractive(key) {\n",
              "          const element = document.querySelector('#df-3d8d7f95-8a4d-4926-87b0-f308a74b769c');\n",
              "          const dataTable =\n",
              "            await google.colab.kernel.invokeFunction('convertToInteractive',\n",
              "                                                     [key], {});\n",
              "          if (!dataTable) return;\n",
              "\n",
              "          const docLinkHtml = 'Like what you see? Visit the ' +\n",
              "            '<a target=\"_blank\" href=https://colab.research.google.com/notebooks/data_table.ipynb>data table notebook</a>'\n",
              "            + ' to learn more about interactive tables.';\n",
              "          element.innerHTML = '';\n",
              "          dataTable['output_type'] = 'display_data';\n",
              "          await google.colab.output.renderOutput(dataTable, element);\n",
              "          const docLink = document.createElement('div');\n",
              "          docLink.innerHTML = docLinkHtml;\n",
              "          element.appendChild(docLink);\n",
              "        }\n",
              "      </script>\n",
              "    </div>\n",
              "  </div>\n",
              "  "
            ]
          },
          "metadata": {},
          "execution_count": 68
        }
      ]
    },
    {
      "cell_type": "code",
      "source": [
        "test1=sc.fit_transform(test)"
      ],
      "metadata": {
        "id": "M0mN1dLoehJo"
      },
      "execution_count": null,
      "outputs": []
    },
    {
      "cell_type": "code",
      "source": [
        "predictions=xgr.predict(test1)\n",
        "predictions[:20]"
      ],
      "metadata": {
        "colab": {
          "base_uri": "https://localhost:8080/"
        },
        "id": "IDtuNLN8biUT",
        "outputId": "141e636b-6fb5-4935-9258-551c309c9cd5"
      },
      "execution_count": null,
      "outputs": [
        {
          "output_type": "execute_result",
          "data": {
            "text/plain": [
              "array([47.113487, 45.749744, 35.24928 , 41.87382 , 39.11203 , 47.065277,\n",
              "       45.799324, 39.738888, 47.545628, 41.355976, 33.923805, 35.161564,\n",
              "       41.329464, 48.1671  , 30.071402, 29.178816, 43.019844, 34.277294,\n",
              "       23.067661, 27.744602], dtype=float32)"
            ]
          },
          "metadata": {},
          "execution_count": 88
        }
      ]
    },
    {
      "cell_type": "code",
      "source": [
        "submission=pd.DataFrame()\n",
        "submission['UDI']=test.index\n",
        "submission['Torque']=predictions\n",
        "submission.set_index('UDI')"
      ],
      "metadata": {
        "colab": {
          "base_uri": "https://localhost:8080/",
          "height": 455
        },
        "id": "huBTt0XPes-O",
        "outputId": "26030195-e5cb-4b73-b053-1e4601d63d0a"
      },
      "execution_count": null,
      "outputs": [
        {
          "output_type": "execute_result",
          "data": {
            "text/plain": [
              "         Torque\n",
              "UDI            \n",
              "4000  47.113487\n",
              "4001  45.749744\n",
              "4002  35.249279\n",
              "4003  41.873821\n",
              "4004  39.112030\n",
              "...         ...\n",
              "4995  34.389080\n",
              "4996  40.965206\n",
              "4997  50.301346\n",
              "4998  18.419420\n",
              "4999  27.932049\n",
              "\n",
              "[1000 rows x 1 columns]"
            ],
            "text/html": [
              "\n",
              "  <div id=\"df-59cfbbff-72c7-4897-9bdc-4000bec30f57\">\n",
              "    <div class=\"colab-df-container\">\n",
              "      <div>\n",
              "<style scoped>\n",
              "    .dataframe tbody tr th:only-of-type {\n",
              "        vertical-align: middle;\n",
              "    }\n",
              "\n",
              "    .dataframe tbody tr th {\n",
              "        vertical-align: top;\n",
              "    }\n",
              "\n",
              "    .dataframe thead th {\n",
              "        text-align: right;\n",
              "    }\n",
              "</style>\n",
              "<table border=\"1\" class=\"dataframe\">\n",
              "  <thead>\n",
              "    <tr style=\"text-align: right;\">\n",
              "      <th></th>\n",
              "      <th>Torque</th>\n",
              "    </tr>\n",
              "    <tr>\n",
              "      <th>UDI</th>\n",
              "      <th></th>\n",
              "    </tr>\n",
              "  </thead>\n",
              "  <tbody>\n",
              "    <tr>\n",
              "      <th>4000</th>\n",
              "      <td>47.113487</td>\n",
              "    </tr>\n",
              "    <tr>\n",
              "      <th>4001</th>\n",
              "      <td>45.749744</td>\n",
              "    </tr>\n",
              "    <tr>\n",
              "      <th>4002</th>\n",
              "      <td>35.249279</td>\n",
              "    </tr>\n",
              "    <tr>\n",
              "      <th>4003</th>\n",
              "      <td>41.873821</td>\n",
              "    </tr>\n",
              "    <tr>\n",
              "      <th>4004</th>\n",
              "      <td>39.112030</td>\n",
              "    </tr>\n",
              "    <tr>\n",
              "      <th>...</th>\n",
              "      <td>...</td>\n",
              "    </tr>\n",
              "    <tr>\n",
              "      <th>4995</th>\n",
              "      <td>34.389080</td>\n",
              "    </tr>\n",
              "    <tr>\n",
              "      <th>4996</th>\n",
              "      <td>40.965206</td>\n",
              "    </tr>\n",
              "    <tr>\n",
              "      <th>4997</th>\n",
              "      <td>50.301346</td>\n",
              "    </tr>\n",
              "    <tr>\n",
              "      <th>4998</th>\n",
              "      <td>18.419420</td>\n",
              "    </tr>\n",
              "    <tr>\n",
              "      <th>4999</th>\n",
              "      <td>27.932049</td>\n",
              "    </tr>\n",
              "  </tbody>\n",
              "</table>\n",
              "<p>1000 rows × 1 columns</p>\n",
              "</div>\n",
              "      <button class=\"colab-df-convert\" onclick=\"convertToInteractive('df-59cfbbff-72c7-4897-9bdc-4000bec30f57')\"\n",
              "              title=\"Convert this dataframe to an interactive table.\"\n",
              "              style=\"display:none;\">\n",
              "        \n",
              "  <svg xmlns=\"http://www.w3.org/2000/svg\" height=\"24px\"viewBox=\"0 0 24 24\"\n",
              "       width=\"24px\">\n",
              "    <path d=\"M0 0h24v24H0V0z\" fill=\"none\"/>\n",
              "    <path d=\"M18.56 5.44l.94 2.06.94-2.06 2.06-.94-2.06-.94-.94-2.06-.94 2.06-2.06.94zm-11 1L8.5 8.5l.94-2.06 2.06-.94-2.06-.94L8.5 2.5l-.94 2.06-2.06.94zm10 10l.94 2.06.94-2.06 2.06-.94-2.06-.94-.94-2.06-.94 2.06-2.06.94z\"/><path d=\"M17.41 7.96l-1.37-1.37c-.4-.4-.92-.59-1.43-.59-.52 0-1.04.2-1.43.59L10.3 9.45l-7.72 7.72c-.78.78-.78 2.05 0 2.83L4 21.41c.39.39.9.59 1.41.59.51 0 1.02-.2 1.41-.59l7.78-7.78 2.81-2.81c.8-.78.8-2.07 0-2.86zM5.41 20L4 18.59l7.72-7.72 1.47 1.35L5.41 20z\"/>\n",
              "  </svg>\n",
              "      </button>\n",
              "      \n",
              "  <style>\n",
              "    .colab-df-container {\n",
              "      display:flex;\n",
              "      flex-wrap:wrap;\n",
              "      gap: 12px;\n",
              "    }\n",
              "\n",
              "    .colab-df-convert {\n",
              "      background-color: #E8F0FE;\n",
              "      border: none;\n",
              "      border-radius: 50%;\n",
              "      cursor: pointer;\n",
              "      display: none;\n",
              "      fill: #1967D2;\n",
              "      height: 32px;\n",
              "      padding: 0 0 0 0;\n",
              "      width: 32px;\n",
              "    }\n",
              "\n",
              "    .colab-df-convert:hover {\n",
              "      background-color: #E2EBFA;\n",
              "      box-shadow: 0px 1px 2px rgba(60, 64, 67, 0.3), 0px 1px 3px 1px rgba(60, 64, 67, 0.15);\n",
              "      fill: #174EA6;\n",
              "    }\n",
              "\n",
              "    [theme=dark] .colab-df-convert {\n",
              "      background-color: #3B4455;\n",
              "      fill: #D2E3FC;\n",
              "    }\n",
              "\n",
              "    [theme=dark] .colab-df-convert:hover {\n",
              "      background-color: #434B5C;\n",
              "      box-shadow: 0px 1px 3px 1px rgba(0, 0, 0, 0.15);\n",
              "      filter: drop-shadow(0px 1px 2px rgba(0, 0, 0, 0.3));\n",
              "      fill: #FFFFFF;\n",
              "    }\n",
              "  </style>\n",
              "\n",
              "      <script>\n",
              "        const buttonEl =\n",
              "          document.querySelector('#df-59cfbbff-72c7-4897-9bdc-4000bec30f57 button.colab-df-convert');\n",
              "        buttonEl.style.display =\n",
              "          google.colab.kernel.accessAllowed ? 'block' : 'none';\n",
              "\n",
              "        async function convertToInteractive(key) {\n",
              "          const element = document.querySelector('#df-59cfbbff-72c7-4897-9bdc-4000bec30f57');\n",
              "          const dataTable =\n",
              "            await google.colab.kernel.invokeFunction('convertToInteractive',\n",
              "                                                     [key], {});\n",
              "          if (!dataTable) return;\n",
              "\n",
              "          const docLinkHtml = 'Like what you see? Visit the ' +\n",
              "            '<a target=\"_blank\" href=https://colab.research.google.com/notebooks/data_table.ipynb>data table notebook</a>'\n",
              "            + ' to learn more about interactive tables.';\n",
              "          element.innerHTML = '';\n",
              "          dataTable['output_type'] = 'display_data';\n",
              "          await google.colab.output.renderOutput(dataTable, element);\n",
              "          const docLink = document.createElement('div');\n",
              "          docLink.innerHTML = docLinkHtml;\n",
              "          element.appendChild(docLink);\n",
              "        }\n",
              "      </script>\n",
              "    </div>\n",
              "  </div>\n",
              "  "
            ]
          },
          "metadata": {},
          "execution_count": 89
        }
      ]
    },
    {
      "cell_type": "code",
      "source": [
        "len(test)"
      ],
      "metadata": {
        "colab": {
          "base_uri": "https://localhost:8080/"
        },
        "id": "HOhFnJi6fN7t",
        "outputId": "1845d841-6a6f-4102-881d-6488a9ff6dfd"
      },
      "execution_count": null,
      "outputs": [
        {
          "output_type": "execute_result",
          "data": {
            "text/plain": [
              "1000"
            ]
          },
          "metadata": {},
          "execution_count": 90
        }
      ]
    },
    {
      "cell_type": "code",
      "source": [
        "len(submission)"
      ],
      "metadata": {
        "colab": {
          "base_uri": "https://localhost:8080/"
        },
        "id": "lLF9_ElFfQEA",
        "outputId": "637c0ff4-024a-436e-ee80-7f8c03a5e4ef"
      },
      "execution_count": null,
      "outputs": [
        {
          "output_type": "execute_result",
          "data": {
            "text/plain": [
              "1000"
            ]
          },
          "metadata": {},
          "execution_count": 91
        }
      ]
    },
    {
      "cell_type": "code",
      "source": [
        "submission.to_csv('submission.csv', index=False)"
      ],
      "metadata": {
        "id": "PeGlrT_Pf5IS"
      },
      "execution_count": null,
      "outputs": []
    },
    {
      "cell_type": "code",
      "source": [],
      "metadata": {
        "id": "5n1uvYzs3r-Z"
      },
      "execution_count": null,
      "outputs": []
    }
  ]
}